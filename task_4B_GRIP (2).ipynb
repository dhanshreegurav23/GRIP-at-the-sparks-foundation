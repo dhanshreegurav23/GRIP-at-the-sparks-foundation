{
  "nbformat": 4,
  "nbformat_minor": 0,
  "metadata": {
    "colab": {
      "name": "task_4B_GRIP.ipynb",
      "provenance": []
    },
    "kernelspec": {
      "name": "python3",
      "display_name": "Python 3"
    }
  },
  "cells": [
    {
      "cell_type": "markdown",
      "metadata": {
        "id": "0Py0WMSaM5bC"
      },
      "source": [
        "**TASK #4B**\n",
        "\n",
        "NAME : DHANSHREE PRADEEP GURAV\n",
        "\n",
        "\n",
        "Sentimental analysis of news headlines."
      ]
    },
    {
      "cell_type": "code",
      "metadata": {
        "id": "PbHIr-niKwcO"
      },
      "source": [
        "import pandas as pd\n",
        "# Load the data\n",
        "from google.colab import files\n"
      ],
      "execution_count": 3,
      "outputs": []
    },
    {
      "cell_type": "code",
      "metadata": {
        "id": "JvbdTyOoMNnf"
      },
      "source": [
        "df=pd.read_csv('/content/Data.csv',encoding='ISO-8859-1')"
      ],
      "execution_count": 4,
      "outputs": []
    },
    {
      "cell_type": "code",
      "metadata": {
        "id": "XnDmYfDfMNk0"
      },
      "source": [
        "train = df[df['Date'] < '20150101']\n",
        "test = df[df['Date'] > '20141231']"
      ],
      "execution_count": 5,
      "outputs": []
    },
    {
      "cell_type": "code",
      "metadata": {
        "id": "MlFD2GE_MNjr",
        "outputId": "d5f8c8d3-86d9-469e-8839-0fe4d52598a1",
        "colab": {
          "base_uri": "https://localhost:8080/",
          "height": 717
        }
      },
      "source": [
        "# Removing punctuations\n",
        "data=train.iloc[:,2:27]\n",
        "data.replace(\"[^a-zA-Z]\",\" \",regex=True, inplace=True)\n",
        "\n",
        "# Renaming column names for ease of access\n",
        "list1= [i for i in range(25)]\n",
        "new_Index=[str(i) for i in list1]\n",
        "data.columns= new_Index\n",
        "data.head(5)"
      ],
      "execution_count": 6,
      "outputs": [
        {
          "output_type": "execute_result",
          "data": {
            "text/html": [
              "<div>\n",
              "<style scoped>\n",
              "    .dataframe tbody tr th:only-of-type {\n",
              "        vertical-align: middle;\n",
              "    }\n",
              "\n",
              "    .dataframe tbody tr th {\n",
              "        vertical-align: top;\n",
              "    }\n",
              "\n",
              "    .dataframe thead th {\n",
              "        text-align: right;\n",
              "    }\n",
              "</style>\n",
              "<table border=\"1\" class=\"dataframe\">\n",
              "  <thead>\n",
              "    <tr style=\"text-align: right;\">\n",
              "      <th></th>\n",
              "      <th>0</th>\n",
              "      <th>1</th>\n",
              "      <th>2</th>\n",
              "      <th>3</th>\n",
              "      <th>4</th>\n",
              "      <th>5</th>\n",
              "      <th>6</th>\n",
              "      <th>7</th>\n",
              "      <th>8</th>\n",
              "      <th>9</th>\n",
              "      <th>10</th>\n",
              "      <th>11</th>\n",
              "      <th>12</th>\n",
              "      <th>13</th>\n",
              "      <th>14</th>\n",
              "      <th>15</th>\n",
              "      <th>16</th>\n",
              "      <th>17</th>\n",
              "      <th>18</th>\n",
              "      <th>19</th>\n",
              "      <th>20</th>\n",
              "      <th>21</th>\n",
              "      <th>22</th>\n",
              "      <th>23</th>\n",
              "      <th>24</th>\n",
              "    </tr>\n",
              "  </thead>\n",
              "  <tbody>\n",
              "    <tr>\n",
              "      <th>247</th>\n",
              "      <td>Letters  In memory of Charlotte Wilson</td>\n",
              "      <td>Margaret s state of health causes Queen concern</td>\n",
              "      <td>Money and politics   the winners and losers</td>\n",
              "      <td>Blair may ask   m donor to go public</td>\n",
              "      <td>Labour looks for business backing</td>\n",
              "      <td>Profile  Paul Hamlyn</td>\n",
              "      <td>George Carman</td>\n",
              "      <td>Algerian  critical  after street stabbing</td>\n",
              "      <td>Statue  Chain  and Medal</td>\n",
              "      <td>Labour s mystery benefactor</td>\n",
              "      <td>George Carman QC dies</td>\n",
              "      <td>Woman killed in giant landslide in Wales</td>\n",
              "      <td>George Carman QC  a career in quotations</td>\n",
              "      <td>Happy New Year from SocietyGuardian co uk</td>\n",
              "      <td>We felt we were poisoning her</td>\n",
              "      <td>The diary of a junior doctor</td>\n",
              "      <td>Self help books</td>\n",
              "      <td>Dear doctor</td>\n",
              "      <td>Lord Hamlyn is Labour s   m donor</td>\n",
              "      <td>Playing with the phantoms of Prussia past</td>\n",
              "      <td>Canal Plus to sell stake in Eurosport</td>\n",
              "      <td>Interview  Ben Kingsley</td>\n",
              "      <td>Amazon announces record sales for December</td>\n",
              "      <td>Compromise solution to WH Smith distribution row</td>\n",
              "      <td>Arafat s last despairing bid for peace</td>\n",
              "    </tr>\n",
              "    <tr>\n",
              "      <th>248</th>\n",
              "      <td>BG goes volatile again</td>\n",
              "      <td>Shrinking Westminster</td>\n",
              "      <td>From  Deirdre    Jan</td>\n",
              "      <td>Where did it all go wrong  Winona</td>\n",
              "      <td>Number of boys held on remand doubles</td>\n",
              "      <td>Why didn t they just publish and be damned</td>\n",
              "      <td>Shrinking Westminster</td>\n",
              "      <td>Intel inside the portable gadget market</td>\n",
              "      <td>Malcolm  Dean  Cheques and balances</td>\n",
              "      <td>Commuter trains in near collision</td>\n",
              "      <td>BBC Worldwide Christmas sales reach    m</td>\n",
              "      <td>Young carers are shameful reminder of system s...</td>\n",
              "      <td>Councils may lose housing duties under Tory plan</td>\n",
              "      <td>WH Smith abandons distribution plans</td>\n",
              "      <td>Obituary  George Carman</td>\n",
              "      <td>Letsbuyit com on the brink</td>\n",
              "      <td>Sykes takes up reins at Imperial</td>\n",
              "      <td>Get well soon  Welcome back  and Goodbye for ever</td>\n",
              "      <td>Ikea ad voted  most irritating  of the year</td>\n",
              "      <td>ITV misses peak time target</td>\n",
              "      <td>Arms and the  innocent  man</td>\n",
              "      <td>The panel  toddler tax credit</td>\n",
              "      <td>Dreaming of a slack Christmas</td>\n",
              "      <td>Erin Gill on being brought up by her father</td>\n",
              "      <td>Finding a perfect nanny</td>\n",
              "    </tr>\n",
              "    <tr>\n",
              "      <th>249</th>\n",
              "      <td>A year of two halves</td>\n",
              "      <td>Still king of the cups</td>\n",
              "      <td>Litmanen signing leaves Fowler in limbo</td>\n",
              "      <td>Bull to pull on boots again for Hereford</td>\n",
              "      <td>Countdown to the Trustee Act</td>\n",
              "      <td>From  Andrew    Dec</td>\n",
              "      <td>Week    San Franscisco to Fiji</td>\n",
              "      <td>From   e kiloh     Jan</td>\n",
              "      <td>Charity warns of increase in disabled births f...</td>\n",
              "      <td>Lib Lab links in  coma  over voting reform</td>\n",
              "      <td>Ailing princess may have had a second stroke</td>\n",
              "      <td>Alan Garner gets OBE</td>\n",
              "      <td>It s a numbers game in teacher  meltdown</td>\n",
              "      <td>Schools face four day week</td>\n",
              "      <td>Double first for novel newcomer Zadie Smith</td>\n",
              "      <td>Costly drugs case collapses</td>\n",
              "      <td>Crossing the public private divide</td>\n",
              "      <td>US ad campaign attacks marijuana laws</td>\n",
              "      <td>NewsCorp denies hitch in US TV deal</td>\n",
              "      <td>Yahoo  agrees to ban auctions of Nazi memorabilia</td>\n",
              "      <td>Jari Litmanen s dream move  Ross Kemp s Christ...</td>\n",
              "      <td>The questions people ask</td>\n",
              "      <td>Choosing a hairdryer</td>\n",
              "      <td>Arafat allies stand by refugees</td>\n",
              "      <td>Labour donors give   m to party</td>\n",
              "    </tr>\n",
              "    <tr>\n",
              "      <th>250</th>\n",
              "      <td>The terrorist s daughter whose vendetta shook ...</td>\n",
              "      <td>Caniggia to stay at Dundee</td>\n",
              "      <td>From  Alex    Jan</td>\n",
              "      <td>Week    Kathmandu to Pokhara</td>\n",
              "      <td>From  Dale    Jan</td>\n",
              "      <td>Broken Cup needs fixing</td>\n",
              "      <td>Workers  welcome</td>\n",
              "      <td>Journalists take issue with Boycott</td>\n",
              "      <td>Teachers may force four day week</td>\n",
              "      <td>Roll on Glastonbury</td>\n",
              "      <td>On the new publication of Grove  the book of m...</td>\n",
              "      <td>Berio  Sinfonia</td>\n",
              "      <td>Continuing  Ending  and Starting</td>\n",
              "      <td>Plug pulled on Glastonbury after council launc...</td>\n",
              "      <td>Bacardi launches branded cat collars</td>\n",
              "      <td>Overheard</td>\n",
              "      <td>Brace yourselves for the return of lesbian chic</td>\n",
              "      <td>Ken Maginnis bows out</td>\n",
              "      <td>The ordeal of train travel</td>\n",
              "      <td>Staff laid off at Breathe com</td>\n",
              "      <td>German wing of Fool com folds</td>\n",
              "      <td>Extracts from the report</td>\n",
              "      <td>Ariel Sharon  the waiting warrior</td>\n",
              "      <td>Extracts from the report</td>\n",
              "      <td>London critics laud Billy Elliot</td>\n",
              "    </tr>\n",
              "    <tr>\n",
              "      <th>251</th>\n",
              "      <td>Sheringham the big difference</td>\n",
              "      <td>Round up</td>\n",
              "      <td>Young Doherty earns his Spurs in defence</td>\n",
              "      <td>Wise move to stave off transfer</td>\n",
              "      <td>Solano remains the talk of the Tyne</td>\n",
              "      <td>School of science survives pits visit</td>\n",
              "      <td>Leeds come through a desert</td>\n",
              "      <td>Kanoute double spares Hammers</td>\n",
              "      <td>Christie helps Smith buy time</td>\n",
              "      <td>Weaver mends frayed nerves</td>\n",
              "      <td>Warnock sinks seething in south</td>\n",
              "      <td>Reds alert despite Fowler s absence</td>\n",
              "      <td>Lack of fire cracks old joke of York</td>\n",
              "      <td>Jones wakes sleeping Wolves</td>\n",
              "      <td>Ipswich are too wise to be caught out by Morec...</td>\n",
              "      <td>End of the jolly green giantkillers</td>\n",
              "      <td>Charlton fail to handle Daggers</td>\n",
              "      <td>Chapple savours another Ks special</td>\n",
              "      <td>Bellamy sees off Brady bunch</td>\n",
              "      <td>Blades and Saints resume a century of Cup conf...</td>\n",
              "      <td>Dagenham dream of Spurs as Leeds face Liverpool</td>\n",
              "      <td>Fourth round draw</td>\n",
              "      <td>Carlisle head out and across the border</td>\n",
              "      <td>From  Kaz    Jan</td>\n",
              "      <td>Charities pull funds out of arms firms</td>\n",
              "    </tr>\n",
              "  </tbody>\n",
              "</table>\n",
              "</div>"
            ],
            "text/plain": [
              "                                                     0  ...                                      24\n",
              "247             Letters  In memory of Charlotte Wilson  ...  Arafat s last despairing bid for peace\n",
              "248                             BG goes volatile again  ...                 Finding a perfect nanny\n",
              "249                               A year of two halves  ...         Labour donors give   m to party\n",
              "250  The terrorist s daughter whose vendetta shook ...  ...        London critics laud Billy Elliot\n",
              "251                      Sheringham the big difference  ...  Charities pull funds out of arms firms\n",
              "\n",
              "[5 rows x 25 columns]"
            ]
          },
          "metadata": {
            "tags": []
          },
          "execution_count": 6
        }
      ]
    },
    {
      "cell_type": "code",
      "metadata": {
        "id": "pUwkBjSgMNgw",
        "outputId": "6a5b795b-6c54-4340-a49c-166818f16748",
        "colab": {
          "base_uri": "https://localhost:8080/",
          "height": 202
        }
      },
      "source": [
        "# Convertng headlines to lower case\n",
        "for index in new_Index:\n",
        "    data[index]=data[index].str.lower()\n",
        "data.head(1)"
      ],
      "execution_count": 7,
      "outputs": [
        {
          "output_type": "execute_result",
          "data": {
            "text/html": [
              "<div>\n",
              "<style scoped>\n",
              "    .dataframe tbody tr th:only-of-type {\n",
              "        vertical-align: middle;\n",
              "    }\n",
              "\n",
              "    .dataframe tbody tr th {\n",
              "        vertical-align: top;\n",
              "    }\n",
              "\n",
              "    .dataframe thead th {\n",
              "        text-align: right;\n",
              "    }\n",
              "</style>\n",
              "<table border=\"1\" class=\"dataframe\">\n",
              "  <thead>\n",
              "    <tr style=\"text-align: right;\">\n",
              "      <th></th>\n",
              "      <th>0</th>\n",
              "      <th>1</th>\n",
              "      <th>2</th>\n",
              "      <th>3</th>\n",
              "      <th>4</th>\n",
              "      <th>5</th>\n",
              "      <th>6</th>\n",
              "      <th>7</th>\n",
              "      <th>8</th>\n",
              "      <th>9</th>\n",
              "      <th>10</th>\n",
              "      <th>11</th>\n",
              "      <th>12</th>\n",
              "      <th>13</th>\n",
              "      <th>14</th>\n",
              "      <th>15</th>\n",
              "      <th>16</th>\n",
              "      <th>17</th>\n",
              "      <th>18</th>\n",
              "      <th>19</th>\n",
              "      <th>20</th>\n",
              "      <th>21</th>\n",
              "      <th>22</th>\n",
              "      <th>23</th>\n",
              "      <th>24</th>\n",
              "    </tr>\n",
              "  </thead>\n",
              "  <tbody>\n",
              "    <tr>\n",
              "      <th>247</th>\n",
              "      <td>letters  in memory of charlotte wilson</td>\n",
              "      <td>margaret s state of health causes queen concern</td>\n",
              "      <td>money and politics   the winners and losers</td>\n",
              "      <td>blair may ask   m donor to go public</td>\n",
              "      <td>labour looks for business backing</td>\n",
              "      <td>profile  paul hamlyn</td>\n",
              "      <td>george carman</td>\n",
              "      <td>algerian  critical  after street stabbing</td>\n",
              "      <td>statue  chain  and medal</td>\n",
              "      <td>labour s mystery benefactor</td>\n",
              "      <td>george carman qc dies</td>\n",
              "      <td>woman killed in giant landslide in wales</td>\n",
              "      <td>george carman qc  a career in quotations</td>\n",
              "      <td>happy new year from societyguardian co uk</td>\n",
              "      <td>we felt we were poisoning her</td>\n",
              "      <td>the diary of a junior doctor</td>\n",
              "      <td>self help books</td>\n",
              "      <td>dear doctor</td>\n",
              "      <td>lord hamlyn is labour s   m donor</td>\n",
              "      <td>playing with the phantoms of prussia past</td>\n",
              "      <td>canal plus to sell stake in eurosport</td>\n",
              "      <td>interview  ben kingsley</td>\n",
              "      <td>amazon announces record sales for december</td>\n",
              "      <td>compromise solution to wh smith distribution row</td>\n",
              "      <td>arafat s last despairing bid for peace</td>\n",
              "    </tr>\n",
              "  </tbody>\n",
              "</table>\n",
              "</div>"
            ],
            "text/plain": [
              "                                          0  ...                                      24\n",
              "247  letters  in memory of charlotte wilson  ...  arafat s last despairing bid for peace\n",
              "\n",
              "[1 rows x 25 columns]"
            ]
          },
          "metadata": {
            "tags": []
          },
          "execution_count": 7
        }
      ]
    },
    {
      "cell_type": "code",
      "metadata": {
        "id": "uHu-wIg1MNeE",
        "outputId": "48d9d14c-9835-48ab-8bc5-9e452bd1ff3f",
        "colab": {
          "base_uri": "https://localhost:8080/",
          "height": 120
        }
      },
      "source": [
        "' '.join(str(x) for x in data.iloc[1,0:25])"
      ],
      "execution_count": 8,
      "outputs": [
        {
          "output_type": "execute_result",
          "data": {
            "application/vnd.google.colaboratory.intrinsic+json": {
              "type": "string"
            },
            "text/plain": [
              "'bg goes volatile again shrinking westminster from  deirdre    jan  where did it all go wrong  winona  number of boys held on remand doubles why didn t they just publish and be damned  shrinking westminster intel inside the portable gadget market malcolm  dean  cheques and balances commuter trains in near collision bbc worldwide christmas sales reach    m young carers are shameful reminder of system s failings councils may lose housing duties under tory plan wh smith abandons distribution plans obituary  george carman letsbuyit com on the brink sykes takes up reins at imperial get well soon  welcome back  and goodbye for ever ikea ad voted  most irritating  of the year itv misses peak time target arms and the  innocent  man the panel  toddler tax credit dreaming of a slack christmas erin gill on being brought up by her father finding a perfect nanny'"
            ]
          },
          "metadata": {
            "tags": []
          },
          "execution_count": 8
        }
      ]
    },
    {
      "cell_type": "code",
      "metadata": {
        "id": "7GqoW95LMNbu"
      },
      "source": [
        "headlines = []\n",
        "for row in range(0,len(data.index)):\n",
        "    headlines.append(' '.join(str(x) for x in data.iloc[row,0:25]))"
      ],
      "execution_count": 10,
      "outputs": []
    },
    {
      "cell_type": "code",
      "metadata": {
        "id": "ewR4qmRuMNY4"
      },
      "source": [
        "from sklearn.feature_extraction.text import CountVectorizer\n",
        "from sklearn.ensemble import RandomForestClassifier"
      ],
      "execution_count": 11,
      "outputs": []
    },
    {
      "cell_type": "code",
      "metadata": {
        "id": "c5sObCVzMo-m"
      },
      "source": [
        "## implement BAG OF WORDS\n",
        "countvector=CountVectorizer(ngram_range=(2,2))\n",
        "traindataset=countvector.fit_transform(headlines)"
      ],
      "execution_count": 14,
      "outputs": []
    },
    {
      "cell_type": "code",
      "metadata": {
        "id": "1ekjupZXMsTt",
        "outputId": "2e27cd0f-1f8b-4b0a-e39e-76460801397e",
        "colab": {
          "base_uri": "https://localhost:8080/"
        }
      },
      "source": [
        "# implement RandomForest Classifier\n",
        "randomclassifier=RandomForestClassifier(n_estimators=200,criterion='entropy')\n",
        "randomclassifier.fit(traindataset,train['Label'])"
      ],
      "execution_count": 13,
      "outputs": [
        {
          "output_type": "execute_result",
          "data": {
            "text/plain": [
              "RandomForestClassifier(bootstrap=True, ccp_alpha=0.0, class_weight=None,\n",
              "                       criterion='entropy', max_depth=None, max_features='auto',\n",
              "                       max_leaf_nodes=None, max_samples=None,\n",
              "                       min_impurity_decrease=0.0, min_impurity_split=None,\n",
              "                       min_samples_leaf=1, min_samples_split=2,\n",
              "                       min_weight_fraction_leaf=0.0, n_estimators=200,\n",
              "                       n_jobs=None, oob_score=False, random_state=None,\n",
              "                       verbose=0, warm_start=False)"
            ]
          },
          "metadata": {
            "tags": []
          },
          "execution_count": 13
        }
      ]
    },
    {
      "cell_type": "code",
      "metadata": {
        "id": "APTl2PrWMuiN"
      },
      "source": [
        "## Predict for the Test Dataset\n",
        "test_transform= []\n",
        "for row in range(0,len(test.index)):\n",
        "    test_transform.append(' '.join(str(x) for x in test.iloc[row,2:27]))\n",
        "test_dataset = countvector.transform(test_transform)\n",
        "predictions = randomclassifier.predict(test_dataset)"
      ],
      "execution_count": 19,
      "outputs": []
    },
    {
      "cell_type": "code",
      "metadata": {
        "id": "RikE_AaTM0WD",
        "outputId": "c7718a24-0064-469a-f748-d6f2805fae7a",
        "colab": {
          "base_uri": "https://localhost:8080/"
        }
      },
      "source": [
        "## Import library to check accuracy\n",
        "from sklearn.metrics import classification_report,confusion_matrix,accuracy_score\n",
        "matrix=confusion_matrix(test['Label'],predictions)\n",
        "print(matrix)\n",
        "score=accuracy_score(test['Label'],predictions)\n",
        "print(score)\n",
        "report=classification_report(test['Label'],predictions)\n",
        "print(report)"
      ],
      "execution_count": 18,
      "outputs": [
        {
          "output_type": "stream",
          "text": [
            "[[149 511]\n",
            " [ 20 701]]\n",
            "0.6154960173787111\n",
            "              precision    recall  f1-score   support\n",
            "\n",
            "           0       0.88      0.23      0.36       660\n",
            "           1       0.58      0.97      0.73       721\n",
            "\n",
            "    accuracy                           0.62      1381\n",
            "   macro avg       0.73      0.60      0.54      1381\n",
            "weighted avg       0.72      0.62      0.55      1381\n",
            "\n"
          ],
          "name": "stdout"
        }
      ]
    }
  ]
}